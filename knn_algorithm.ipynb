{
 "cells": [
  {
   "cell_type": "code",
   "execution_count": 1,
   "id": "1966cacc",
   "metadata": {
    "scrolled": false
   },
   "outputs": [
    {
     "name": "stdout",
     "output_type": "stream",
     "text": [
      "      N1_C   N2_C  N3_C     UN2_F  RL  UL  SS  DRAP\n",
      "0    361.2  18.75  2.33   9094.32   1   1  12     0\n",
      "1    189.8  16.25  3.33  16015.61   0   0   8     1\n",
      "2    295.0  25.25  5.67  29608.46   0   0   6     0\n",
      "3    296.6  14.75  3.33   7971.48   1   0   8     0\n",
      "4    283.4  27.00  5.00  39565.78   1   0   9     0\n",
      "..     ...    ...   ...       ...  ..  ..  ..   ...\n",
      "354  431.4  41.25  9.33  22280.65   0   1  11     1\n",
      "355  245.0  35.25  4.67  13599.06   0   1   9     0\n",
      "356  309.0  15.50  2.33  10235.27   0   0   9     1\n",
      "357  313.4  36.50  6.33  48539.37   0   0  11     0\n",
      "358  319.0  32.00  7.00  19328.99   0   1  17     1\n",
      "\n",
      "[359 rows x 8 columns]\n"
     ]
    }
   ],
   "source": [
    "#import\n",
    "from sklearn.neighbors import KNeighborsClassifier\n",
    "from sklearn.model_selection import train_test_split\n",
    "from sklearn.preprocessing import StandardScaler\n",
    "from sklearn import preprocessing\n",
    "from sklearn import utils\n",
    "\n",
    "#testing model\n",
    "from sklearn.metrics import confusion_matrix\n",
    "from sklearn.metrics import f1_score\n",
    "from sklearn.metrics import accuracy_score\n",
    "from sklearn.metrics import mean_squared_error\n",
    "from sklearn.metrics import classification_report\n",
    "import seaborn as sns\n",
    "\n",
    "#testing model \n",
    "\n",
    "import numpy as np\n",
    "import pandas as pd\n",
    "import math\n",
    "import matplotlib.pyplot as plt\n",
    "import seaborn as sns\n",
    "\n",
    "\n",
    "#import matplotlib.pyplot as plt\n",
    "#plt.style.use('wordle')\n",
    "#plt.figure(figsize = (100,100))\n",
    "#plt.scatter(X[:,0], X[:,1], c=y, marker= '*',s=100,edgecolors='black')\n",
    "#plt.show()\n",
    "\n",
    "#import data \n",
    "df = pd.read_excel('/Users/nwilson/Desktop/ewu/Comap MCM 2023/final_knn_logreg_file.xlsx')\n",
    "print(df)"
   ]
  },
  {
   "cell_type": "code",
   "execution_count": 2,
   "id": "397b31f5",
   "metadata": {},
   "outputs": [
    {
     "data": {
      "text/plain": [
       "(359, 8)"
      ]
     },
     "execution_count": 2,
     "metadata": {},
     "output_type": "execute_result"
    }
   ],
   "source": [
    "df.shape"
   ]
  },
  {
   "cell_type": "code",
   "execution_count": 3,
   "id": "387e65d1",
   "metadata": {},
   "outputs": [
    {
     "data": {
      "text/html": [
       "<div>\n",
       "<style scoped>\n",
       "    .dataframe tbody tr th:only-of-type {\n",
       "        vertical-align: middle;\n",
       "    }\n",
       "\n",
       "    .dataframe tbody tr th {\n",
       "        vertical-align: top;\n",
       "    }\n",
       "\n",
       "    .dataframe thead th {\n",
       "        text-align: right;\n",
       "    }\n",
       "</style>\n",
       "<table border=\"1\" class=\"dataframe\">\n",
       "  <thead>\n",
       "    <tr style=\"text-align: right;\">\n",
       "      <th></th>\n",
       "      <th>N1_C</th>\n",
       "      <th>N2_C</th>\n",
       "      <th>N3_C</th>\n",
       "      <th>UN2_F</th>\n",
       "      <th>RL</th>\n",
       "      <th>UL</th>\n",
       "      <th>SS</th>\n",
       "      <th>DRAP</th>\n",
       "    </tr>\n",
       "  </thead>\n",
       "  <tbody>\n",
       "    <tr>\n",
       "      <th>0</th>\n",
       "      <td>361.2</td>\n",
       "      <td>18.75</td>\n",
       "      <td>2.33</td>\n",
       "      <td>9094.32</td>\n",
       "      <td>1</td>\n",
       "      <td>1</td>\n",
       "      <td>12</td>\n",
       "      <td>0</td>\n",
       "    </tr>\n",
       "    <tr>\n",
       "      <th>1</th>\n",
       "      <td>189.8</td>\n",
       "      <td>16.25</td>\n",
       "      <td>3.33</td>\n",
       "      <td>16015.61</td>\n",
       "      <td>0</td>\n",
       "      <td>0</td>\n",
       "      <td>8</td>\n",
       "      <td>1</td>\n",
       "    </tr>\n",
       "    <tr>\n",
       "      <th>2</th>\n",
       "      <td>295.0</td>\n",
       "      <td>25.25</td>\n",
       "      <td>5.67</td>\n",
       "      <td>29608.46</td>\n",
       "      <td>0</td>\n",
       "      <td>0</td>\n",
       "      <td>6</td>\n",
       "      <td>0</td>\n",
       "    </tr>\n",
       "    <tr>\n",
       "      <th>3</th>\n",
       "      <td>296.6</td>\n",
       "      <td>14.75</td>\n",
       "      <td>3.33</td>\n",
       "      <td>7971.48</td>\n",
       "      <td>1</td>\n",
       "      <td>0</td>\n",
       "      <td>8</td>\n",
       "      <td>0</td>\n",
       "    </tr>\n",
       "    <tr>\n",
       "      <th>4</th>\n",
       "      <td>283.4</td>\n",
       "      <td>27.00</td>\n",
       "      <td>5.00</td>\n",
       "      <td>39565.78</td>\n",
       "      <td>1</td>\n",
       "      <td>0</td>\n",
       "      <td>9</td>\n",
       "      <td>0</td>\n",
       "    </tr>\n",
       "  </tbody>\n",
       "</table>\n",
       "</div>"
      ],
      "text/plain": [
       "    N1_C   N2_C  N3_C     UN2_F  RL  UL  SS  DRAP\n",
       "0  361.2  18.75  2.33   9094.32   1   1  12     0\n",
       "1  189.8  16.25  3.33  16015.61   0   0   8     1\n",
       "2  295.0  25.25  5.67  29608.46   0   0   6     0\n",
       "3  296.6  14.75  3.33   7971.48   1   0   8     0\n",
       "4  283.4  27.00  5.00  39565.78   1   0   9     0"
      ]
     },
     "execution_count": 3,
     "metadata": {},
     "output_type": "execute_result"
    }
   ],
   "source": [
    "df.head()"
   ]
  },
  {
   "cell_type": "code",
   "execution_count": 4,
   "id": "c72f59a5",
   "metadata": {},
   "outputs": [],
   "source": [
    "#correlation coefficient of data frame \n",
    "correlation = df.corr()"
   ]
  },
  {
   "cell_type": "code",
   "execution_count": 5,
   "id": "ee053ebc",
   "metadata": {
    "scrolled": true
   },
   "outputs": [
    {
     "data": {
      "text/plain": [
       "DRAP     1.000000\n",
       "UL       0.182701\n",
       "SS       0.134985\n",
       "RL       0.111249\n",
       "N1_C     0.088272\n",
       "N2_C     0.027191\n",
       "N3_C    -0.007301\n",
       "UN2_F   -0.110544\n",
       "Name: DRAP, dtype: float64"
      ]
     },
     "execution_count": 5,
     "metadata": {},
     "output_type": "execute_result"
    }
   ],
   "source": [
    "#pearson correlation coefficients \n",
    "correlation['DRAP'].sort_values(ascending=False)"
   ]
  },
  {
   "cell_type": "code",
   "execution_count": 6,
   "id": "0fba411e",
   "metadata": {},
   "outputs": [],
   "source": [
    "#split independent and dependent variables \n",
    "X=df.drop(['DRAP'], axis=1)\n",
    "y=df['DRAP']"
   ]
  },
  {
   "cell_type": "code",
   "execution_count": 7,
   "id": "3ba65cee",
   "metadata": {},
   "outputs": [],
   "source": [
    "#split indepdent variables \n",
    "X_train, X_test, y_train, y_test = train_test_split(X,y,test_size = 0.2,\n",
    "      random_state=0)"
   ]
  },
  {
   "cell_type": "code",
   "execution_count": 8,
   "id": "fae35edc",
   "metadata": {},
   "outputs": [
    {
     "data": {
      "text/plain": [
       "((287, 7), (72, 7))"
      ]
     },
     "execution_count": 8,
     "metadata": {},
     "output_type": "execute_result"
    }
   ],
   "source": [
    "X_train.shape, X_test.shape"
   ]
  },
  {
   "cell_type": "code",
   "execution_count": 9,
   "id": "fa0fac7b",
   "metadata": {
    "scrolled": true
   },
   "outputs": [
    {
     "data": {
      "text/plain": [
       "N1_C     float64\n",
       "N2_C     float64\n",
       "N3_C     float64\n",
       "UN2_F    float64\n",
       "RL         int64\n",
       "UL         int64\n",
       "SS         int64\n",
       "dtype: object"
      ]
     },
     "execution_count": 9,
     "metadata": {},
     "output_type": "execute_result"
    }
   ],
   "source": [
    "#check data types\n",
    "X_train.dtypes"
   ]
  },
  {
   "cell_type": "code",
   "execution_count": 10,
   "id": "7629d062",
   "metadata": {},
   "outputs": [],
   "source": [
    "cols=X_train.columns"
   ]
  },
  {
   "cell_type": "code",
   "execution_count": 11,
   "id": "37105257",
   "metadata": {},
   "outputs": [],
   "source": [
    "#scale values\n",
    "scaler = StandardScaler()\n",
    "X_train = scaler.fit_transform(X_train)\n",
    "\n",
    "X_test = scaler.transform(X_test)"
   ]
  },
  {
   "cell_type": "code",
   "execution_count": 12,
   "id": "1b04416c",
   "metadata": {},
   "outputs": [],
   "source": [
    "#split training values\n",
    "X_train = pd.DataFrame(X_train, columns=[cols])"
   ]
  },
  {
   "cell_type": "code",
   "execution_count": 13,
   "id": "0f261f6a",
   "metadata": {},
   "outputs": [],
   "source": [
    "#split test values\n",
    "X_test = pd.DataFrame(X_test, columns=[cols])"
   ]
  },
  {
   "cell_type": "code",
   "execution_count": 14,
   "id": "782122b4",
   "metadata": {
    "scrolled": true
   },
   "outputs": [
    {
     "name": "stdout",
     "output_type": "stream",
     "text": [
      "         N1_C      N2_C      N3_C     UN2_F        RL        UL        SS\n",
      "0    0.069380  0.285059  1.255086 -0.437331 -0.632456 -0.847681 -0.395746\n",
      "1   -0.666905 -0.317782  0.011547  2.165139 -0.632456 -0.847681 -0.395746\n",
      "2    0.300713 -0.524018 -0.921107 -0.317046 -0.632456  1.179689 -0.043016\n",
      "3   -0.226627 -0.175004  0.219840 -0.449532  1.581139 -0.847681 -0.748476\n",
      "4   -0.890776 -1.095130 -1.334584 -0.641074 -0.632456  1.179689  1.015174\n",
      "..        ...       ...       ...       ...       ...       ...       ...\n",
      "282  0.546970  0.919629  1.255086 -0.257133 -0.632456 -0.847681 -0.748476\n",
      "283  0.696217  0.221602  0.114139  0.028936 -0.632456 -0.847681 -0.748476\n",
      "284  0.288276 -0.888895  0.219840 -1.239515  1.581139  1.179689  1.367904\n",
      "285 -0.258963 -0.904760 -0.091045 -1.320480  1.581139  1.179689  1.015174\n",
      "286  0.507171  0.364380  0.114139  0.692585  1.581139 -0.847681 -0.395746\n",
      "\n",
      "[287 rows x 7 columns]\n"
     ]
    }
   ],
   "source": [
    "#scaled training values \n",
    "print(X_train)"
   ]
  },
  {
   "cell_type": "code",
   "execution_count": 15,
   "id": "bfa9d645",
   "metadata": {
    "scrolled": false
   },
   "outputs": [
    {
     "name": "stdout",
     "output_type": "stream",
     "text": [
      "        N1_C      N2_C      N3_C     UN2_F        RL        UL        SS\n",
      "0   1.096697  0.031231 -0.507630  0.513107 -0.632456 -0.847681 -1.453936\n",
      "1   0.621594  0.776851  1.463379  0.470040  1.581139 -0.847681 -0.395746\n",
      "2   0.477322  0.935493  0.322432  0.357912 -0.632456  1.179689 -0.395746\n",
      "3   0.295738  1.506606  0.530725 -0.195733 -0.632456 -0.847681  1.015174\n",
      "4  -0.306225  1.585927  1.152494  0.495351 -0.632456  1.179689  0.309714\n",
      "..       ...       ...       ...       ...       ...       ...       ...\n",
      "67  0.750941 -0.286054 -0.507630 -0.404165  1.581139  1.179689 -0.748476\n",
      "68  0.263401  0.380244  1.463379  0.526360 -0.632456  1.179689 -0.395746\n",
      "69  0.059430  0.380244  0.633317 -0.126255 -0.632456 -0.847681 -0.748476\n",
      "70 -0.836052  0.189873  0.425024 -0.902125 -0.632456  1.179689  1.720634\n",
      "71 -1.097234 -0.492289 -0.610222 -0.480209 -0.632456  1.179689 -0.043016\n",
      "\n",
      "[72 rows x 7 columns]\n"
     ]
    }
   ],
   "source": [
    "#scaled test values \n",
    "print(X_test)"
   ]
  },
  {
   "cell_type": "code",
   "execution_count": 16,
   "id": "da4f64e4",
   "metadata": {},
   "outputs": [],
   "source": [
    "# instantiate the model\n",
    "knn = KNeighborsClassifier(n_neighbors=19, metric='manhattan')"
   ]
  },
  {
   "cell_type": "code",
   "execution_count": 17,
   "id": "d49e083d",
   "metadata": {},
   "outputs": [
    {
     "name": "stderr",
     "output_type": "stream",
     "text": [
      "/Users/nwilson/opt/anaconda3/lib/python3.9/site-packages/sklearn/utils/validation.py:1688: FutureWarning: Feature names only support names that are all strings. Got feature names with dtypes: ['tuple']. An error will be raised in 1.2.\n",
      "  warnings.warn(\n"
     ]
    },
    {
     "data": {
      "text/plain": [
       "KNeighborsClassifier(metric='manhattan', n_neighbors=19)"
      ]
     },
     "execution_count": 17,
     "metadata": {},
     "output_type": "execute_result"
    }
   ],
   "source": [
    "# fit the model to the training set\n",
    "knn.fit(X_train, y_train)"
   ]
  },
  {
   "cell_type": "code",
   "execution_count": 18,
   "id": "d32718ad",
   "metadata": {},
   "outputs": [
    {
     "name": "stderr",
     "output_type": "stream",
     "text": [
      "/Users/nwilson/opt/anaconda3/lib/python3.9/site-packages/sklearn/utils/validation.py:1688: FutureWarning: Feature names only support names that are all strings. Got feature names with dtypes: ['tuple']. An error will be raised in 1.2.\n",
      "  warnings.warn(\n"
     ]
    },
    {
     "data": {
      "text/plain": [
       "array([0, 0, 0, 0, 0, 0, 0, 0, 0, 0, 0, 0, 0, 0, 0, 0, 0, 0, 0, 0, 0, 0,\n",
       "       0, 0, 0, 0, 0, 0, 0, 0, 0, 0, 0, 0, 0, 0, 0, 0, 0, 0, 0, 0, 0, 0,\n",
       "       0, 0, 0, 0, 0, 0, 0, 0, 0, 0, 0, 0, 0, 0, 0, 0, 0, 0, 0, 0, 0, 0,\n",
       "       0, 0, 0, 0, 0, 0])"
      ]
     },
     "execution_count": 18,
     "metadata": {},
     "output_type": "execute_result"
    }
   ],
   "source": [
    "# predict based off test set\n",
    "y_pred = knn.predict(X_test)\n",
    "\n",
    "y_pred"
   ]
  },
  {
   "cell_type": "code",
   "execution_count": 19,
   "id": "2fd0a70e",
   "metadata": {
    "scrolled": true
   },
   "outputs": [
    {
     "data": {
      "text/plain": [
       "0    61\n",
       "1    11\n",
       "Name: DRAP, dtype: int64"
      ]
     },
     "execution_count": 19,
     "metadata": {},
     "output_type": "execute_result"
    }
   ],
   "source": [
    "y_test.value_counts()"
   ]
  },
  {
   "cell_type": "code",
   "execution_count": 20,
   "id": "fbe1a6dc",
   "metadata": {
    "scrolled": false
   },
   "outputs": [
    {
     "name": "stdout",
     "output_type": "stream",
     "text": [
      "Confusion Matrix:\n",
      "[[61  0]\n",
      " [11  0]]\n",
      "Classification Report:\n",
      "              precision    recall  f1-score   support\n",
      "\n",
      "           0       0.85      1.00      0.92        61\n",
      "           1       0.00      0.00      0.00        11\n",
      "\n",
      "    accuracy                           0.85        72\n",
      "   macro avg       0.42      0.50      0.46        72\n",
      "weighted avg       0.72      0.85      0.78        72\n",
      "\n",
      "Accuracy: 0.8472222222222222\n"
     ]
    },
    {
     "name": "stderr",
     "output_type": "stream",
     "text": [
      "/Users/nwilson/opt/anaconda3/lib/python3.9/site-packages/sklearn/metrics/_classification.py:1318: UndefinedMetricWarning: Precision and F-score are ill-defined and being set to 0.0 in labels with no predicted samples. Use `zero_division` parameter to control this behavior.\n",
      "  _warn_prf(average, modifier, msg_start, len(result))\n",
      "/Users/nwilson/opt/anaconda3/lib/python3.9/site-packages/sklearn/metrics/_classification.py:1318: UndefinedMetricWarning: Precision and F-score are ill-defined and being set to 0.0 in labels with no predicted samples. Use `zero_division` parameter to control this behavior.\n",
      "  _warn_prf(average, modifier, msg_start, len(result))\n",
      "/Users/nwilson/opt/anaconda3/lib/python3.9/site-packages/sklearn/metrics/_classification.py:1318: UndefinedMetricWarning: Precision and F-score are ill-defined and being set to 0.0 in labels with no predicted samples. Use `zero_division` parameter to control this behavior.\n",
      "  _warn_prf(average, modifier, msg_start, len(result))\n"
     ]
    }
   ],
   "source": [
    "#confusion matrix, with accuracy results \n",
    "result = confusion_matrix(y_test, y_pred)\n",
    "print(\"Confusion Matrix:\")\n",
    "print(result)\n",
    "result1 = classification_report(y_test, y_pred)\n",
    "print(\"Classification Report:\",)\n",
    "print (result1)\n",
    "result2 = accuracy_score(y_test,y_pred)\n",
    "print('Accuracy:',result2)"
   ]
  },
  {
   "cell_type": "code",
   "execution_count": 21,
   "id": "75725379",
   "metadata": {},
   "outputs": [
    {
     "data": {
      "text/plain": [
       "Text(0.5, 257.44, 'Predicted label')"
      ]
     },
     "execution_count": 21,
     "metadata": {},
     "output_type": "execute_result"
    },
    {
     "data": {
      "image/png": "[encoded data removed]",
      "text/plain": [
       "<Figure size 432x288 with 2 Axes>"
      ]
     },
     "metadata": {
      "needs_background": "light"
     },
     "output_type": "display_data"
    }
   ],
   "source": [
    "#heatmap of confusion matrix\n",
    "cnf_matrix = confusion_matrix(y_test,y_pred)\n",
    "class_names=[0,1] # name  of classes\n",
    "fig, ax = plt.subplots()\n",
    "tick_marks = np.arange(len(class_names))\n",
    "plt.xticks(tick_marks, class_names)\n",
    "plt.yticks(tick_marks, class_names)\n",
    "\n",
    "# create heatmap\n",
    "sns.heatmap(pd.DataFrame(cnf_matrix), annot=True, cmap=\"YlGnBu\" ,fmt='g')\n",
    "ax.xaxis.set_label_position(\"top\")\n",
    "plt.tight_layout()\n",
    "plt.title('Confusion matrix', y=1.1)\n",
    "plt.ylabel('Actual label')\n",
    "plt.xlabel('Predicted label')"
   ]
  },
  {
   "cell_type": "code",
   "execution_count": 22,
   "id": "cbae93ff",
   "metadata": {},
   "outputs": [
    {
     "name": "stdout",
     "output_type": "stream",
     "text": [
      "[[-1.120366, -0.508924, -0.625952, -0.48626, -0.647085, 1.174804, -0.025032]]\n"
     ]
    }
   ],
   "source": [
    "#setting prediction values for independet variables    \n",
    "Xnew =[[-1.120366,-0.508924,-0.625952,\n",
    "      -0.48626,-0.647085,1.174804,-0.025032]]\n",
    "print(Xnew)"
   ]
  },
  {
   "cell_type": "code",
   "execution_count": 23,
   "id": "e70b3943",
   "metadata": {},
   "outputs": [
    {
     "name": "stdout",
     "output_type": "stream",
     "text": [
      "[0]\n"
     ]
    }
   ],
   "source": [
    "#predicting dependent variable \n",
    "predicted=knn.predict(Xnew)\n",
    "print(predicted)"
   ]
  },
  {
   "cell_type": "code",
   "execution_count": null,
   "id": "9740e048",
   "metadata": {},
   "outputs": [],
   "source": []
  }
 ],
 "metadata": {
  "kernelspec": {
   "display_name": "Python 3 (ipykernel)",
   "language": "python",
   "name": "python3"
  },
  "language_info": {
   "codemirror_mode": {
    "name": "ipython",
    "version": 3
   },
   "file_extension": ".py",
   "mimetype": "text/x-python",
   "name": "python",
   "nbconvert_exporter": "python",
   "pygments_lexer": "ipython3",
   "version": "3.9.12"
  }
 },
 "nbformat": 4,
 "nbformat_minor": 5
}
