{
 "cells": [
  {
   "cell_type": "code",
   "execution_count": 1,
   "id": "3b5e547f",
   "metadata": {},
   "outputs": [
    {
     "name": "stdout",
     "output_type": "stream",
     "text": [
      "      N1_C   N2_C  N3_C     UN2_F  RL  UL  SS  DRAP\n",
      "0    361.2  18.75  2.33   9094.32   1   1  12     0\n",
      "1    189.8  16.25  3.33  16015.61   0   0   8     1\n",
      "2    295.0  25.25  5.67  29608.46   0   0   6     0\n",
      "3    296.6  14.75  3.33   7971.48   1   0   8     0\n",
      "4    283.4  27.00  5.00  39565.78   1   0   9     0\n",
      "..     ...    ...   ...       ...  ..  ..  ..   ...\n",
      "354  431.4  41.25  9.33  22280.65   0   1  11     1\n",
      "355  245.0  35.25  4.67  13599.06   0   1   9     0\n",
      "356  309.0  15.50  2.33  10235.27   0   0   9     1\n",
      "357  313.4  36.50  6.33  48539.37   0   0  11     0\n",
      "358  319.0  32.00  7.00  19328.99   0   1  17     1\n",
      "\n",
      "[359 rows x 8 columns]\n"
     ]
    }
   ],
   "source": [
    "#import \n",
    "import pandas as pd\n",
    "from sklearn.model_selection import train_test_split\n",
    "from sklearn.linear_model import LogisticRegression\n",
    "from sklearn.neighbors import KNeighborsClassifier\n",
    "from sklearn.model_selection import train_test_split\n",
    "from sklearn.preprocessing import StandardScaler\n",
    "from sklearn import preprocessing\n",
    "from sklearn import utils\n",
    "import numpy as np\n",
    "\n",
    "#testing model\n",
    "from sklearn.metrics import confusion_matrix\n",
    "from sklearn.metrics import f1_score\n",
    "from sklearn.metrics import accuracy_score\n",
    "from sklearn.metrics import mean_squared_error\n",
    "from sklearn.metrics import classification_report\n",
    "from sklearn import metrics\n",
    "import seaborn as sns\n",
    "import matplotlib.pyplot as plt\n",
    "\n",
    "\n",
    "#load dataset\n",
    "pima = pd.read_excel('/Users/nwilson/Desktop/ewu/Comap MCM 2023/final_knn_logreg_file.xlsx')\n",
    "print(pima)"
   ]
  },
  {
   "cell_type": "code",
   "execution_count": 2,
   "id": "72ace610",
   "metadata": {},
   "outputs": [],
   "source": [
    "#split dataset in features and target variable\n",
    "X = pima.drop(['DRAP'], axis=1) # Features\n",
    "y = pima.DRAP # Target variable"
   ]
  },
  {
   "cell_type": "code",
   "execution_count": 3,
   "id": "9603fc78",
   "metadata": {},
   "outputs": [],
   "source": [
    "#correlation coefficient of pima data \n",
    "correlation = pima.corr()"
   ]
  },
  {
   "cell_type": "code",
   "execution_count": 4,
   "id": "9ec0260b",
   "metadata": {},
   "outputs": [
    {
     "data": {
      "text/plain": [
       "DRAP     1.000000\n",
       "UL       0.182701\n",
       "SS       0.134985\n",
       "RL       0.111249\n",
       "N1_C     0.088272\n",
       "N2_C     0.027191\n",
       "N3_C    -0.007301\n",
       "UN2_F   -0.110544\n",
       "Name: DRAP, dtype: float64"
      ]
     },
     "execution_count": 4,
     "metadata": {},
     "output_type": "execute_result"
    }
   ],
   "source": [
    "#pearson correlation coefficient \n",
    "correlation['DRAP'].sort_values(ascending=False)"
   ]
  },
  {
   "cell_type": "code",
   "execution_count": 5,
   "id": "e0630977",
   "metadata": {},
   "outputs": [],
   "source": [
    "# split X and y into training and testing sets\n",
    "X_train, X_test, y_train, y_test = train_test_split(X, y, test_size=0.2, random_state=16)"
   ]
  },
  {
   "cell_type": "code",
   "execution_count": 6,
   "id": "d3991bc3",
   "metadata": {},
   "outputs": [],
   "source": [
    "#scale training and test data \n",
    "scaler = StandardScaler()\n",
    "X_train = scaler.fit_transform(X_train)\n",
    "\n",
    "X_test = scaler.transform(X_test)"
   ]
  },
  {
   "cell_type": "code",
   "execution_count": 7,
   "id": "591d4269",
   "metadata": {},
   "outputs": [],
   "source": [
    "# instantiate the model (using the default parameters)\n",
    "logreg = LogisticRegression(random_state=16)\n",
    "\n",
    "# fit the model with data\n",
    "logreg.fit(X_train, y_train)\n",
    "\n",
    "y_pred = logreg.predict(X_test)"
   ]
  },
  {
   "cell_type": "code",
   "execution_count": 8,
   "id": "f81d9a12",
   "metadata": {},
   "outputs": [
    {
     "data": {
      "text/plain": [
       "array([[60,  2],\n",
       "       [ 9,  1]])"
      ]
     },
     "execution_count": 8,
     "metadata": {},
     "output_type": "execute_result"
    }
   ],
   "source": [
    "cnf_matrix = metrics.confusion_matrix(y_test, y_pred)\n",
    "cnf_matrix"
   ]
  },
  {
   "cell_type": "code",
   "execution_count": 9,
   "id": "686f0165",
   "metadata": {},
   "outputs": [
    {
     "data": {
      "text/plain": [
       "Text(0.5, 257.44, 'Predicted label')"
      ]
     },
     "execution_count": 9,
     "metadata": {},
     "output_type": "execute_result"
    },
    {
     "data": {
      "image/png": "[encoded data removed]",
      "text/plain": [
       "<Figure size 432x288 with 2 Axes>"
      ]
     },
     "metadata": {
      "needs_background": "light"
     },
     "output_type": "display_data"
    }
   ],
   "source": [
    "#heatmap of confusion matrix \n",
    "class_names=[0,1,2] # name  of classes\n",
    "fig, ax = plt.subplots()\n",
    "tick_marks = np.arange(len(class_names))\n",
    "plt.xticks(tick_marks, class_names)\n",
    "plt.yticks(tick_marks, class_names)\n",
    "# create heatmap\n",
    "sns.heatmap(pd.DataFrame(cnf_matrix), annot=True, cmap=\"YlGnBu\" ,fmt='g')\n",
    "ax.xaxis.set_label_position(\"top\")\n",
    "plt.tight_layout()\n",
    "plt.title('Confusion matrix', y=1.1)\n",
    "plt.ylabel('Actual label')\n",
    "plt.xlabel('Predicted label')\n",
    "\n",
    "#Text(0.5,257.44,'Predicted label');"
   ]
  },
  {
   "cell_type": "code",
   "execution_count": 10,
   "id": "495b39f9",
   "metadata": {},
   "outputs": [
    {
     "name": "stdout",
     "output_type": "stream",
     "text": [
      "Confusion Matrix:\n",
      "[[60  2]\n",
      " [ 9  1]]\n",
      "Classification Report:\n",
      "              precision    recall  f1-score   support\n",
      "\n",
      "           0       0.87      0.97      0.92        62\n",
      "           1       0.33      0.10      0.15        10\n",
      "\n",
      "    accuracy                           0.85        72\n",
      "   macro avg       0.60      0.53      0.53        72\n",
      "weighted avg       0.80      0.85      0.81        72\n",
      "\n",
      "Accuracy: 0.8472222222222222\n"
     ]
    }
   ],
   "source": [
    "#confusion matrix and results \n",
    "result = confusion_matrix(y_test, y_pred)\n",
    "print(\"Confusion Matrix:\")\n",
    "print(result)\n",
    "result1 = classification_report(y_test, y_pred)\n",
    "print(\"Classification Report:\",)\n",
    "print (result1)\n",
    "result2 = accuracy_score(y_test,y_pred)\n",
    "print('Accuracy:',result2)"
   ]
  },
  {
   "cell_type": "code",
   "execution_count": 11,
   "id": "41e76a52",
   "metadata": {},
   "outputs": [
    {
     "name": "stdout",
     "output_type": "stream",
     "text": [
      "[[-1.127884, -0.511388, -0.625408, -0.491681, -0.647085, 1.253566, -0.021203]]\n"
     ]
    }
   ],
   "source": [
    "#prediction values for indepdent variables\n",
    "Xnew =[[-1.127884,-0.511388,-0.625408,\n",
    "      -0.491681,-0.647085,1.253566,-0.021203]]\n",
    "\n",
    "print(Xnew)"
   ]
  },
  {
   "cell_type": "code",
   "execution_count": 12,
   "id": "65465a8e",
   "metadata": {},
   "outputs": [
    {
     "name": "stdout",
     "output_type": "stream",
     "text": [
      "[0]\n"
     ]
    }
   ],
   "source": [
    "#predict dependent variable \n",
    "predicted=logreg.predict(Xnew)\n",
    "print(predicted)"
   ]
  },
  {
   "cell_type": "code",
   "execution_count": null,
   "id": "c7fe5b62",
   "metadata": {},
   "outputs": [],
   "source": []
  }
 ],
 "metadata": {
  "kernelspec": {
   "display_name": "Python 3 (ipykernel)",
   "language": "python",
   "name": "python3"
  },
  "language_info": {
   "codemirror_mode": {
    "name": "ipython",
    "version": 3
   },
   "file_extension": ".py",
   "mimetype": "text/x-python",
   "name": "python",
   "nbconvert_exporter": "python",
   "pygments_lexer": "ipython3",
   "version": "3.9.12"
  }
 },
 "nbformat": 4,
 "nbformat_minor": 5
}
